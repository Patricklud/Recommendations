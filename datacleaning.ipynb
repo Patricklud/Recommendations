{
 "cells": [
  {
   "cell_type": "code",
   "execution_count": 10,
   "metadata": {},
   "outputs": [],
   "source": [
    "import pandas as pd\n",
    "import os"
   ]
  },
  {
   "cell_type": "code",
   "execution_count": 7,
   "metadata": {},
   "outputs": [
    {
     "name": "stderr",
     "output_type": "stream",
     "text": [
      "/var/folders/44/kkxz7p095jq4pqp_r6pf_gw00000gn/T/ipykernel_66958/1412651677.py:4: DtypeWarning: Columns (1,2,3,4,5,8) have mixed types. Specify dtype option on import or set low_memory=False.\n",
      "  youtube = pd.read_csv('users/patrickludwiczak/downloads/youtube.csv')\n"
     ]
    }
   ],
   "source": [
    "movies = pd.read_csv('users/patrickludwiczak/downloads/movies.csv')\n",
    "tv = pd.read_csv('users/patrickludwiczak/downloads/tv.csv', engine='python')\n",
    "games = pd.read_csv('users/patrickludwiczak/downloads/games.csv')\n",
    "youtube = pd.read_csv('users/patrickludwiczak/downloads/youtube.csv')\n",
    "music = pd.read_csv('users/patrickludwiczak/downloads/music.csv')"
   ]
  },
  {
   "cell_type": "code",
   "execution_count": null,
   "metadata": {},
   "outputs": [],
   "source": [
    "#save dataframes as csvs\n",
    "movies.to_csv('users/patrickludwiczak/downloads/movies.csv', index = False)\n",
    "tv.to_csv('users/patrickludwiczak/downloads/tv.csv', index = False)\n",
    "games.to_csv('users/patrickludwiczak/downloads/games.csv', index = False)\n",
    "youtube.to_csv('users/patrickludwiczak/downloads/youtube.csv', index = False)\n",
    "music.to_csv('users/patrickludwiczak/downloads/music.csv', index = False)"
   ]
  },
  {
   "cell_type": "code",
   "execution_count": 4,
   "metadata": {},
   "outputs": [],
   "source": [
    "media = pd.DataFrame(columns=['id','name','media_type','creator''date_released','language','time_period','pace','energy','age_range','popularity'])\n",
    "genres = ['action/adventure', 'comedy', 'drama', 'thriller/suspense', 'fantasy', 'horror', 'history', 'cooking', 'science_fiction', 'romance', 'mystery', 'documentary/non-fiction', 'educational', 'slice_of_life', 'sports', 'music', 'art/creativity', 'technology', 'lifestyle', 'family', 'crime', 'supernatural', 'war', 'western', 'political', 'satire', 'animation', 'reality', 'talk_show', 'anime', 'experimental/avant-garde', 'puzzle', 'strategy', 'simulation', 'RPG', 'platformer', 'fighting', 'racing', 'classical', 'jazz', 'hip-hop/rap', 'electronic/EDM', 'rock', 'pop', 'folk', 'world', 'children', 'fitness/exercise', 'travel', 'nature', 'business/finance', 'self-help/personal_development', 'religious/spiritual', 'indie', 'retro/nostalgia']"
   ]
  },
  {
   "cell_type": "code",
   "execution_count": 21,
   "metadata": {},
   "outputs": [
    {
     "data": {
      "text/html": [
       "<div>\n",
       "<style scoped>\n",
       "    .dataframe tbody tr th:only-of-type {\n",
       "        vertical-align: middle;\n",
       "    }\n",
       "\n",
       "    .dataframe tbody tr th {\n",
       "        vertical-align: top;\n",
       "    }\n",
       "\n",
       "    .dataframe thead th {\n",
       "        text-align: right;\n",
       "    }\n",
       "</style>\n",
       "<table border=\"1\" class=\"dataframe\">\n",
       "  <thead>\n",
       "    <tr style=\"text-align: right;\">\n",
       "      <th></th>\n",
       "      <th>id</th>\n",
       "      <th>name</th>\n",
       "      <th>album_name</th>\n",
       "      <th>artists</th>\n",
       "      <th>energy</th>\n",
       "      <th>speechiness</th>\n",
       "      <th>tempo</th>\n",
       "      <th>duration_ms</th>\n",
       "      <th>lyrics</th>\n",
       "    </tr>\n",
       "  </thead>\n",
       "  <tbody>\n",
       "    <tr>\n",
       "      <th>0</th>\n",
       "      <td>0Prct5TDjAnEgIqbxcldY9</td>\n",
       "      <td>!</td>\n",
       "      <td>UNDEN!ABLE</td>\n",
       "      <td>['HELLYEAH']</td>\n",
       "      <td>0.6050</td>\n",
       "      <td>0.0575</td>\n",
       "      <td>100.059</td>\n",
       "      <td>79500.0</td>\n",
       "      <td>He said he came from Jamaica,\\n he owned a cou...</td>\n",
       "    </tr>\n",
       "    <tr>\n",
       "      <th>1</th>\n",
       "      <td>2ASl4wirkeYm3OWZxXKYuq</td>\n",
       "      <td>!!</td>\n",
       "      <td>NaN</td>\n",
       "      <td>Yxngxr1</td>\n",
       "      <td>0.6480</td>\n",
       "      <td>0.3150</td>\n",
       "      <td>79.998</td>\n",
       "      <td>114000.0</td>\n",
       "      <td>Fucked a bitch, now she running with my kids\\n...</td>\n",
       "    </tr>\n",
       "    <tr>\n",
       "      <th>2</th>\n",
       "      <td>69lcggVPmOr9cvPx9kLiiN</td>\n",
       "      <td>!!! - Interlude</td>\n",
       "      <td>Where I Belong EP</td>\n",
       "      <td>['Glowie']</td>\n",
       "      <td>0.0354</td>\n",
       "      <td>0.0000</td>\n",
       "      <td>0.000</td>\n",
       "      <td>11413.0</td>\n",
       "      <td>Oh, my God, I'm going crazy\\n</td>\n",
       "    </tr>\n",
       "    <tr>\n",
       "      <th>3</th>\n",
       "      <td>4U7dlZjg1s9pjdppqZy0fm</td>\n",
       "      <td>!!De Repente!!</td>\n",
       "      <td>Un Palo Al Agua (20 Grandes Canciones)</td>\n",
       "      <td>['Rosendo']</td>\n",
       "      <td>0.8820</td>\n",
       "      <td>0.0385</td>\n",
       "      <td>123.588</td>\n",
       "      <td>198173.0</td>\n",
       "      <td>Continuamente se extraña la gente si no puede ...</td>\n",
       "    </tr>\n",
       "    <tr>\n",
       "      <th>4</th>\n",
       "      <td>4v1IBp3Y3rpkWmWzIlkYju</td>\n",
       "      <td>!!De Repente!!</td>\n",
       "      <td>Fuera De Lugar</td>\n",
       "      <td>['Rosendo']</td>\n",
       "      <td>0.8930</td>\n",
       "      <td>0.0411</td>\n",
       "      <td>123.600</td>\n",
       "      <td>199827.0</td>\n",
       "      <td>Continuamente se extraña la gente si no puede ...</td>\n",
       "    </tr>\n",
       "  </tbody>\n",
       "</table>\n",
       "</div>"
      ],
      "text/plain": [
       "                       id             name  \\\n",
       "0  0Prct5TDjAnEgIqbxcldY9                !   \n",
       "1  2ASl4wirkeYm3OWZxXKYuq               !!   \n",
       "2  69lcggVPmOr9cvPx9kLiiN  !!! - Interlude   \n",
       "3  4U7dlZjg1s9pjdppqZy0fm   !!De Repente!!   \n",
       "4  4v1IBp3Y3rpkWmWzIlkYju   !!De Repente!!   \n",
       "\n",
       "                               album_name       artists  energy  speechiness  \\\n",
       "0                              UNDEN!ABLE  ['HELLYEAH']  0.6050       0.0575   \n",
       "1                                     NaN       Yxngxr1  0.6480       0.3150   \n",
       "2                       Where I Belong EP    ['Glowie']  0.0354       0.0000   \n",
       "3  Un Palo Al Agua (20 Grandes Canciones)   ['Rosendo']  0.8820       0.0385   \n",
       "4                          Fuera De Lugar   ['Rosendo']  0.8930       0.0411   \n",
       "\n",
       "     tempo  duration_ms                                             lyrics  \n",
       "0  100.059      79500.0  He said he came from Jamaica,\\n he owned a cou...  \n",
       "1   79.998     114000.0  Fucked a bitch, now she running with my kids\\n...  \n",
       "2    0.000      11413.0                     Oh, my God, I'm going crazy\\n   \n",
       "3  123.588     198173.0  Continuamente se extraña la gente si no puede ...  \n",
       "4  123.600     199827.0  Continuamente se extraña la gente si no puede ...  "
      ]
     },
     "execution_count": 21,
     "metadata": {},
     "output_type": "execute_result"
    }
   ],
   "source": [
    "#youtube = youtube.rename(columns={'channel_name':'name'})\n",
    "music.head()"
   ]
  },
  {
   "cell_type": "code",
   "execution_count": 14,
   "metadata": {},
   "outputs": [
    {
     "ename": "TypeError",
     "evalue": "concat() takes 1 positional argument but 2 positional arguments (and 1 keyword-only argument) were given",
     "output_type": "error",
     "traceback": [
      "\u001b[0;31m---------------------------------------------------------------------------\u001b[0m",
      "\u001b[0;31mTypeError\u001b[0m                                 Traceback (most recent call last)",
      "Cell \u001b[0;32mIn[14], line 3\u001b[0m\n\u001b[1;32m      1\u001b[0m \u001b[38;5;66;03m#add movies,tv,games,youtube,and music names and media type to media dataframe while generating unique id numbers for each\u001b[39;00m\n\u001b[1;32m      2\u001b[0m \u001b[38;5;28;01mfor\u001b[39;00m i \u001b[38;5;129;01min\u001b[39;00m \u001b[38;5;28mrange\u001b[39m(\u001b[38;5;28mlen\u001b[39m(movies)):\n\u001b[0;32m----> 3\u001b[0m     media \u001b[38;5;241m=\u001b[39m \u001b[43mpd\u001b[49m\u001b[38;5;241;43m.\u001b[39;49m\u001b[43mconcat\u001b[49m\u001b[43m(\u001b[49m\u001b[43mmedia\u001b[49m\u001b[43m,\u001b[49m\u001b[43m{\u001b[49m\u001b[38;5;124;43m'\u001b[39;49m\u001b[38;5;124;43mid\u001b[39;49m\u001b[38;5;124;43m'\u001b[39;49m\u001b[43m:\u001b[49m\u001b[43mi\u001b[49m\u001b[43m,\u001b[49m\u001b[38;5;124;43m'\u001b[39;49m\u001b[38;5;124;43mname\u001b[39;49m\u001b[38;5;124;43m'\u001b[39;49m\u001b[43m:\u001b[49m\u001b[43mmovies\u001b[49m\u001b[43m[\u001b[49m\u001b[38;5;124;43m'\u001b[39;49m\u001b[38;5;124;43mtitle\u001b[39;49m\u001b[38;5;124;43m'\u001b[39;49m\u001b[43m]\u001b[49m\u001b[43m[\u001b[49m\u001b[43mi\u001b[49m\u001b[43m]\u001b[49m\u001b[43m,\u001b[49m\u001b[38;5;124;43m'\u001b[39;49m\u001b[38;5;124;43mmedia_type\u001b[39;49m\u001b[38;5;124;43m'\u001b[39;49m\u001b[43m:\u001b[49m\u001b[38;5;124;43m'\u001b[39;49m\u001b[38;5;124;43mmovie\u001b[39;49m\u001b[38;5;124;43m'\u001b[39;49m\u001b[43m,\u001b[49m\u001b[38;5;124;43m'\u001b[39;49m\u001b[38;5;124;43mdate_released\u001b[39;49m\u001b[38;5;124;43m'\u001b[39;49m\u001b[43m:\u001b[49m\u001b[43mmovies\u001b[49m\u001b[43m[\u001b[49m\u001b[38;5;124;43m'\u001b[39;49m\u001b[38;5;124;43mrelease_date\u001b[39;49m\u001b[38;5;124;43m'\u001b[39;49m\u001b[43m]\u001b[49m\u001b[43m[\u001b[49m\u001b[43mi\u001b[49m\u001b[43m]\u001b[49m\u001b[43m,\u001b[49m\u001b[38;5;124;43m'\u001b[39;49m\u001b[38;5;124;43mlanguage\u001b[39;49m\u001b[38;5;124;43m'\u001b[39;49m\u001b[43m:\u001b[49m\u001b[43mmovies\u001b[49m\u001b[43m[\u001b[49m\u001b[38;5;124;43m'\u001b[39;49m\u001b[38;5;124;43moriginal_language\u001b[39;49m\u001b[38;5;124;43m'\u001b[39;49m\u001b[43m]\u001b[49m\u001b[43m[\u001b[49m\u001b[43mi\u001b[49m\u001b[43m]\u001b[49m\u001b[43m}\u001b[49m\u001b[43m,\u001b[49m\u001b[43mignore_index\u001b[49m\u001b[38;5;241;43m=\u001b[39;49m\u001b[38;5;28;43;01mTrue\u001b[39;49;00m\u001b[43m)\u001b[49m\n",
      "\u001b[0;31mTypeError\u001b[0m: concat() takes 1 positional argument but 2 positional arguments (and 1 keyword-only argument) were given"
     ]
    }
   ],
   "source": []
  }
 ],
 "metadata": {
  "kernelspec": {
   "display_name": "Python 3",
   "language": "python",
   "name": "python3"
  },
  "language_info": {
   "codemirror_mode": {
    "name": "ipython",
    "version": 3
   },
   "file_extension": ".py",
   "mimetype": "text/x-python",
   "name": "python",
   "nbconvert_exporter": "python",
   "pygments_lexer": "ipython3",
   "version": "3.9.6"
  }
 },
 "nbformat": 4,
 "nbformat_minor": 2
}
